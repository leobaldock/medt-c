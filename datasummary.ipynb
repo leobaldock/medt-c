{
 "cells": [
  {
   "cell_type": "code",
   "execution_count": 2,
   "source": [
    "import os\n",
    "\n",
    "root = \"./data/adni_sliced_sagittal\"\n",
    "test_dir = os.path.join(root, \"test\")\n",
    "train_dir = os.path.join(root, \"train\")\n",
    "\n",
    "print(len(os.listdir(os.path.join(test_dir, 'cn'))))\n",
    "print(len(os.listdir(os.path.join(test_dir, 'ad'))))\n",
    "\n",
    "print(len(os.listdir(os.path.join(train_dir, 'cn'))))\n",
    "print(len(os.listdir(os.path.join(train_dir, 'ad'))))"
   ],
   "outputs": [
    {
     "output_type": "stream",
     "name": "stdout",
     "text": [
      "41\n",
      "20\n",
      "418\n",
      "201\n"
     ]
    }
   ],
   "metadata": {}
  }
 ],
 "metadata": {
  "orig_nbformat": 4,
  "language_info": {
   "name": "python",
   "version": "3.8.8",
   "mimetype": "text/x-python",
   "codemirror_mode": {
    "name": "ipython",
    "version": 3
   },
   "pygments_lexer": "ipython3",
   "nbconvert_exporter": "python",
   "file_extension": ".py"
  },
  "kernelspec": {
   "name": "python3",
   "display_name": "Python 3.8.8 64-bit ('medt-c': conda)"
  },
  "interpreter": {
   "hash": "12cd09a0c222e58c34f53359e41414927e0c54f1a8e49f2ecf04a2cb7d924487"
  }
 },
 "nbformat": 4,
 "nbformat_minor": 2
}